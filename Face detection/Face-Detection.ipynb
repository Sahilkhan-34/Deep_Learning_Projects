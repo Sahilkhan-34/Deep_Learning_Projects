{
 "cells": [
  {
   "cell_type": "code",
   "execution_count": 2,
   "metadata": {},
   "outputs": [],
   "source": [
    "# !pip install opencv-python"
   ]
  },
  {
   "cell_type": "markdown",
   "metadata": {},
   "source": [
    "**Haar cascade**\n",
    "\n",
    "It is an object detection method"
   ]
  },
  {
   "cell_type": "code",
   "execution_count": 3,
   "metadata": {},
   "outputs": [],
   "source": [
    "import cv2"
   ]
  },
  {
   "cell_type": "markdown",
   "metadata": {},
   "source": [
    "https://github.com/opencv/opencv/tree/master/data/haarcascades"
   ]
  },
  {
   "cell_type": "code",
   "execution_count": 4,
   "metadata": {},
   "outputs": [],
   "source": [
    "face_cascade=cv2.CascadeClassifier('haarcascade_frontalface_default.xml')"
   ]
  },
  {
   "cell_type": "markdown",
   "metadata": {},
   "source": [
    "#### Image:"
   ]
  },
  {
   "cell_type": "code",
   "execution_count": 5,
   "metadata": {},
   "outputs": [
    {
     "data": {
      "text/plain": [
       "array([[[ 75,  93, 104],\n",
       "        [ 81,  99, 110],\n",
       "        [ 88, 106, 117],\n",
       "        ...,\n",
       "        [186, 186, 180],\n",
       "        [186, 186, 180],\n",
       "        [186, 186, 180]],\n",
       "\n",
       "       [[ 77,  95, 106],\n",
       "        [ 84, 102, 113],\n",
       "        [ 87, 105, 116],\n",
       "        ...,\n",
       "        [187, 187, 181],\n",
       "        [187, 187, 181],\n",
       "        [187, 187, 181]],\n",
       "\n",
       "       [[ 77,  95, 106],\n",
       "        [ 84, 102, 113],\n",
       "        [ 86, 104, 115],\n",
       "        ...,\n",
       "        [187, 187, 181],\n",
       "        [187, 187, 181],\n",
       "        [187, 187, 181]],\n",
       "\n",
       "       ...,\n",
       "\n",
       "       [[ 30,  35,  33],\n",
       "        [ 62,  67,  65],\n",
       "        [121, 126, 124],\n",
       "        ...,\n",
       "        [ 98,  66,  43],\n",
       "        [ 93,  62,  38],\n",
       "        [ 87,  57,  32]],\n",
       "\n",
       "       [[ 25,  30,  28],\n",
       "        [ 58,  63,  61],\n",
       "        [121, 126, 124],\n",
       "        ...,\n",
       "        [ 97,  66,  42],\n",
       "        [ 98,  67,  43],\n",
       "        [ 91,  62,  36]],\n",
       "\n",
       "       [[ 26,  31,  29],\n",
       "        [ 58,  63,  61],\n",
       "        [122, 127, 125],\n",
       "        ...,\n",
       "        [ 95,  68,  42],\n",
       "        [ 95,  68,  42],\n",
       "        [ 90,  63,  37]]], dtype=uint8)"
      ]
     },
     "execution_count": 5,
     "metadata": {},
     "output_type": "execute_result"
    }
   ],
   "source": [
    "img=cv2.imread(r'C:\\Users\\sahil\\OneDrive\\Naresh IT Class\\Deep Learning\\Face detection\\openai.png',\n",
    "               cv2.COLOR_BGR2GRAY)\n",
    "img"
   ]
  },
  {
   "cell_type": "code",
   "execution_count": 6,
   "metadata": {},
   "outputs": [],
   "source": [
    "cv2.imshow(\"image\",img)  # open a new window to show the image\n",
    "cv2.waitKey(0)          # if you want to close the image press 0\n",
    "cv2.destroyAllWindows() # the window will be closed"
   ]
  },
  {
   "cell_type": "code",
   "execution_count": 7,
   "metadata": {},
   "outputs": [],
   "source": [
    "# all together\n",
    "# we are reading an image\n",
    "# we are showing the imgage\n",
    "# we are applying a wait key\n",
    "# we are closing the image\n",
    "img=cv2.imread(r'C:\\Users\\sahil\\OneDrive\\Naresh IT Class\\Deep Learning\\Face detection\\openai.png',\n",
    "               cv2.COLOR_BGR2GRAY)\n",
    "\n",
    "cv2.imshow(\"image\",img)  # open a new window to show the image\n",
    "cv2.waitKey(0)          # if you want to close the image press 0\n",
    "cv2.destroyAllWindows()"
   ]
  },
  {
   "cell_type": "markdown",
   "metadata": {},
   "source": [
    "**cv2.rectangle**:\n",
    "    \n",
    "- Image paths\n",
    "\n",
    "- start_window= (5,5)\n",
    "\n",
    "- end_window= (200,200)\n",
    "\n",
    "- BGR : (255,0,0)\n",
    "    \n",
    "- thikness= 3"
   ]
  },
  {
   "cell_type": "markdown",
   "metadata": {},
   "source": [
    "### Dreawing ractanguler box manually"
   ]
  },
  {
   "cell_type": "code",
   "execution_count": 8,
   "metadata": {},
   "outputs": [],
   "source": [
    "img=cv2.imread(r'C:\\Users\\sahil\\OneDrive\\Naresh IT Class\\Deep Learning\\Face detection\\openai.png',\n",
    "               cv2.COLOR_BGR2GRAY)\n",
    "\n",
    "start_window=(300,200)\n",
    "end_window= (550,550)\n",
    "color=(0,0,255)\n",
    "thikness=5\n",
    "rec_image=cv2.rectangle(img,\n",
    "              start_window,\n",
    "              end_window,\n",
    "              color,\n",
    "              thikness)\n",
    "\n",
    "cv2.imshow(\"image\",rec_image)\n",
    "\n",
    "cv2.waitKey(0)         \n",
    "cv2.destroyAllWindows()\n",
    "\n",
    "# This is the problem \n",
    "# we need to provide correct values of start window and end window"
   ]
  },
  {
   "cell_type": "code",
   "execution_count": 9,
   "metadata": {},
   "outputs": [
    {
     "name": "stdout",
     "output_type": "stream",
     "text": [
      "[[674 159 190 190]\n",
      " [145 448 180 180]\n",
      " [514  49 133 133]\n",
      " [870 422 236 236]\n",
      " [379 364 119 119]]\n",
      "674 159\n",
      "190 190\n",
      "145 448\n",
      "180 180\n",
      "514 49\n",
      "133 133\n",
      "870 422\n",
      "236 236\n",
      "379 364\n",
      "119 119\n"
     ]
    }
   ],
   "source": [
    "img=cv2.imread(r'C:\\Users\\sahil\\OneDrive\\Naresh IT Class\\Deep Learning\\Face detection\\openai.png',cv2.COLOR_BGR2GRAY)\n",
    "face_cascade=cv2.CascadeClassifier('haarcascade_frontalface_default.xml')\n",
    "faces=face_cascade.detectMultiScale(img,1.1,4)\n",
    "print(faces)\n",
    "for (x,y,w,h) in faces:\n",
    "    print(x,y)\n",
    "    print(w,h)\n",
    "    cv2.rectangle(img,(x,y),(x+w,y+h),(0,0,255),3)   # B G  R  Red Is ON"
   ]
  },
  {
   "cell_type": "code",
   "execution_count": 10,
   "metadata": {},
   "outputs": [],
   "source": [
    "cv2.imshow('image',img)\n",
    "cv2.waitKey(0)\n",
    "cv2.destroyAllWindows()"
   ]
  },
  {
   "cell_type": "code",
   "execution_count": 11,
   "metadata": {},
   "outputs": [],
   "source": [
    "#face_cascade = cv2.CascadeClassifier(cv2.data.haarcascades + 'haarcascade_frontalface_default.xml')\n",
    "#eye_cascade = cv2.CascadeClassifier(cv2.data.haarcascades + 'haarcascade_eye.xml')"
   ]
  },
  {
   "cell_type": "markdown",
   "metadata": {},
   "source": [
    "#### Video:"
   ]
  },
  {
   "cell_type": "code",
   "execution_count": 12,
   "metadata": {},
   "outputs": [],
   "source": [
    "cap=cv2.VideoCapture(0)\n",
    "while cap.isOpened():\n",
    "    has_frame,frame=cap.read()\n",
    "    imag=cv2.cvtColor(frame,cv2.COLOR_BGR2GRAY)\n",
    "    faces=face_cascade.detectMultiScale(imag,1.1,4)\n",
    "    for (x,y,w,h) in faces:\n",
    "        cv2.rectangle(imag,(x,y),(x+h,y+w),(255,0,0),3)\n",
    "    cv2.imshow('image',imag)\n",
    "    if cv2.waitKey(1) & 0xFF== ord('q'):\n",
    "        break\n",
    "cap.release()\n",
    "cv2.destroyAllWindows() \n"
   ]
  },
  {
   "cell_type": "markdown",
   "metadata": {},
   "source": [
    "#### With eyeball:"
   ]
  },
  {
   "cell_type": "code",
   "execution_count": 13,
   "metadata": {},
   "outputs": [],
   "source": [
    "import cv2\n",
    "eye_cascade=cv2.CascadeClassifier('haarcascade_eye.xml')\n",
    "face_cascade=cv2.CascadeClassifier('haarcascade_frontalface_default.xml')"
   ]
  },
  {
   "cell_type": "code",
   "execution_count": 14,
   "metadata": {},
   "outputs": [],
   "source": [
    "img=cv2.imread('C:\\\\Users\\\\omkar\\\\OneDrive\\\\Documents\\\\Data science\\\\Naresh IT\\\\Data science\\\\Batch-1_May3\\\\DL\\\\Python codes\\\\my.jpg',\n",
    "               cv2.COLOR_BGR2GRAY)"
   ]
  },
  {
   "cell_type": "code",
   "execution_count": 15,
   "metadata": {},
   "outputs": [],
   "source": [
    "cap=cv2.VideoCapture(0)\n",
    "while True:\n",
    "    has_frame,frame=cap.read()\n",
    "    gray=cv2.cvtColor(frame,cv2.COLOR_BGR2GRAY)\n",
    "    faces=face_cascade.detectMultiScale(gray,1.3,5)\n",
    "    for (x,y,w,h) in faces:\n",
    "        cv2.rectangle(frame,(x,y),(x+w,y+h),(255,0,0),2)\n",
    "        roi_gray=gray[y:y+h,x:x+w] #region of the image\n",
    "        roi_color=frame[y:y+h,x:x+w]\n",
    "        eyes=eye_cascade.detectMultiScale(roi_gray)\n",
    "        for (e_x,e_y,e_w,e_h) in eyes:\n",
    "            cv2.rectangle(roi_color,(e_x,e_y),(e_x+e_w,e_y+e_h),(0,255,0),2)\n",
    "    cv2.imshow('imag',frame)\n",
    "    if cv2.waitKey(1) & 0xFF==ord('q'):\n",
    "        break\n",
    "cap.release()\n",
    "cv2.destroyAllWindows()"
   ]
  },
  {
   "cell_type": "code",
   "execution_count": 16,
   "metadata": {},
   "outputs": [],
   "source": [
    "rus_car_numPlate_cascade=cv2.CascadeClassifier('haarcascade_license_plate_rus_16stages.xml')"
   ]
  },
  {
   "cell_type": "code",
   "execution_count": 17,
   "metadata": {},
   "outputs": [
    {
     "name": "stdout",
     "output_type": "stream",
     "text": [
      "[[333 164 162  40]]\n",
      "333 164\n",
      "162 40\n"
     ]
    }
   ],
   "source": [
    "img=cv2.imread(r'C:\\Users\\sahil\\OneDrive\\Naresh IT Class\\Deep Learning\\Face detection\\rus_car.jpg',cv2.COLOR_BGR2GRAY)\n",
    "number_plate_cascade=cv2.CascadeClassifier('haarcascade_license_plate_rus_16stages.xml')\n",
    "faces=number_plate_cascade.detectMultiScale(img,1.1,4)\n",
    "print(faces)\n",
    "for (x,y,w,h) in faces:\n",
    "    print(x,y)\n",
    "    print(w,h)\n",
    "    cv2.rectangle(img,(x,y),(x+w,y+h),(0,0,255),3) "
   ]
  },
  {
   "cell_type": "code",
   "execution_count": 18,
   "metadata": {},
   "outputs": [],
   "source": [
    "cv2.imshow('image',img)\n",
    "cv2.waitKey(0)\n",
    "cv2.destroyAllWindows()"
   ]
  },
  {
   "cell_type": "code",
   "execution_count": null,
   "metadata": {},
   "outputs": [],
   "source": []
  }
 ],
 "metadata": {
  "kernelspec": {
   "display_name": "Python 3 (ipykernel)",
   "language": "python",
   "name": "python3"
  },
  "language_info": {
   "codemirror_mode": {
    "name": "ipython",
    "version": 3
   },
   "file_extension": ".py",
   "mimetype": "text/x-python",
   "name": "python",
   "nbconvert_exporter": "python",
   "pygments_lexer": "ipython3",
   "version": "3.11.5"
  }
 },
 "nbformat": 4,
 "nbformat_minor": 2
}
